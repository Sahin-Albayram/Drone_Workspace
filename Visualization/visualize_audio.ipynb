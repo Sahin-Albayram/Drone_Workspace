{
 "cells": [
  {
   "cell_type": "code",
   "execution_count": 1,
   "id": "a4fd1843",
   "metadata": {},
   "outputs": [],
   "source": [
    "from Utils.audio import Audio_visualize, Audio_plot, Audio_plot_harm\n",
    "import matplotlib.pyplot as plt\n",
    "import numpy as np\n",
    "import os\n",
    "import librosa\n",
    "import glob\n",
    "from IPython.display import Audio\n",
    "import ipywidgets as widgets\n"
   ]
  },
  {
   "cell_type": "markdown",
   "id": "e85832b5",
   "metadata": {},
   "source": [
    "Getting Data"
   ]
  },
  {
   "cell_type": "code",
   "execution_count": 2,
   "id": "85166662",
   "metadata": {},
   "outputs": [],
   "source": [
    "filename = glob.glob(\"Datas/drone-audio-data/*.WAV\")[0]\n",
    "Audio_file,sample_rate = librosa.load(filename)"
   ]
  },
  {
   "cell_type": "markdown",
   "id": "5cb26da3",
   "metadata": {},
   "source": [
    "Wave Show"
   ]
  },
  {
   "cell_type": "code",
   "execution_count": 17,
   "id": "f620ecac",
   "metadata": {
    "scrolled": false
   },
   "outputs": [
    {
     "data": {
      "application/vnd.jupyter.widget-view+json": {
       "model_id": "716dccb2a70542f2bcc060aae7d0e935",
       "version_major": 2,
       "version_minor": 0
      },
      "text/plain": [
       "interactive(children=(FloatSlider(value=1.0, description='t', max=20.0), FloatSlider(value=3.0, description='t…"
      ]
     },
     "metadata": {},
     "output_type": "display_data"
    }
   ],
   "source": [
    "\n",
    "@widgets.interact(t=(0.0,20.0,0.1),time_dif=(1,5,0.1),Audio_file = widgets.fixed(Audio_file),\n",
    "                  sample_rate = widgets.fixed(sample_rate))\n",
    "def update(t=1,time_dif=3, Audio_file=Audio_file, sample_rate=sample_rate):\n",
    "    figure,axis = plt.subplots(3,2)\n",
    "    figure.set_figwidth(16)\n",
    "    figure.set_figheight(12)\n",
    "    \n",
    "    Audio_feature_map = Audio_visualize(Audio_file, sample_rate, t, t+time_dif)\n",
    "    axis[0,0].plot(np.arange(t,(len(Audio_feature_map[\"Audio\"])/sample_rate)+t,(1/sample_rate)), Audio_feature_map[\"Audio\"])\n",
    "    axis[0,0].set_title(\"Audio\")\n",
    "    axis[0,1].plot(np.arange(t,(len(Audio_feature_map[\"harm\"])/sample_rate)+t,(1/sample_rate)),Audio_feature_map[\"harm\"],color = \"#FFB100\")\n",
    "    axis[0,1].set_title(\"Harmonic\")\n",
    "    \n",
    "    print(len(Audio_feature_map[\"harm\"])/sample_rate)\n",
    "    #plt.plot(Audio_feature_map[\"harm\"],color = '#FFB100',alpha=0.5)\n",
    "    #plt.plot(Audio_feature_map[\"perc\"])"
   ]
  },
  {
   "cell_type": "code",
   "execution_count": null,
   "id": "b4ea4dc6",
   "metadata": {},
   "outputs": [],
   "source": []
  }
 ],
 "metadata": {
  "kernelspec": {
   "display_name": "Python 3 (ipykernel)",
   "language": "python",
   "name": "python3"
  },
  "language_info": {
   "codemirror_mode": {
    "name": "ipython",
    "version": 3
   },
   "file_extension": ".py",
   "mimetype": "text/x-python",
   "name": "python",
   "nbconvert_exporter": "python",
   "pygments_lexer": "ipython3",
   "version": "3.10.4"
  },
  "vscode": {
   "interpreter": {
    "hash": "5e37f6addeec446ff39ef6fd4754634375dcddd284e66fe9b5a58c968d7d9bb7"
   }
  }
 },
 "nbformat": 4,
 "nbformat_minor": 5
}
